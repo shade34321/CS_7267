{
 "cells": [
  {
   "cell_type": "code",
   "execution_count": 41,
   "metadata": {
    "collapsed": true
   },
   "outputs": [],
   "source": [
    "import matplotlib.pyplot as plt\n",
    "import numpy as np\n",
    "import pandas as pd\n",
    "\n",
    "from sklearn.model_selection import KFold"
   ]
  },
  {
   "cell_type": "code",
   "execution_count": 42,
   "metadata": {
    "collapsed": true
   },
   "outputs": [],
   "source": [
    "data = pd.read_csv('MNIST_CV.csv', skiprows=[0], header=None)"
   ]
  },
  {
   "cell_type": "code",
   "execution_count": 43,
   "metadata": {
    "collapsed": true
   },
   "outputs": [],
   "source": [
    "def sigmoid(x):\n",
    "    \"\"\"\n",
    "    Sigmoid functio as defined in the slides given an input x\n",
    "    From Andrew Ng Machine learning course on Coursera\n",
    "    \"\"\"\n",
    "    \n",
    "    return (1.0 / (1.0 + np.exp(-x)))\n",
    "\n",
    "def predict(X, weights):\n",
    "    return sigmoid(np.dot(X, weights))\n",
    "\n",
    "def cost(y, X, weights):\n",
    "    \"\"\"\n",
    "    Grabbed this cost function from Andrew Ng course\n",
    "    Cost(h_theta(x), y) = \n",
    "            (-ylog(h_theta(x)) + (1-y)log(1-h_theta(x)))/m\n",
    "    \"\"\"\n",
    "    m = y.size\n",
    "    predictions = predict(X, weights)\n",
    "    cost = np.sum((-y * np.log(predictions)) + ((1-y) * np.log(1-predictions)))\n",
    "    return  (cost / float(m))\n",
    "\n",
    "def log_regression(y, X, n, lr):\n",
    "    weights = np.zeros(X.shape[1])\n",
    "    costs = []\n",
    "    m = y.size\n",
    "    \n",
    "    for i in range(n):\n",
    "        descent = (np.dot((predict(X, weights) - y).T, X)).T\n",
    "        weights = weights - lr * descent\n",
    "        costs.append(cost(y, X, weights))\n",
    "    return weights, costs"
   ]
  },
  {
   "cell_type": "code",
   "execution_count": 44,
   "metadata": {},
   "outputs": [],
   "source": [
    "kfold = KFold(n_splits=10, shuffle=True)\n",
    "all_costs = []\n",
    "fprs = []\n",
    "tprs = []\n",
    "\n",
    "for train_index, test_index in kfold.split(data):\n",
    "    y_training = data.iloc[train_index, 0]\n",
    "    y_test = data.iloc[test_index,0]\n",
    "    X_test = data.iloc[test_index,1:]\n",
    "    X_training = data.iloc[train_index,1:]\n",
    "    \n",
    "    # We should normalize our data because it's the \"right\" thing to do but\n",
    "    # given we're using the MNIST data set and everypoint is a grayscale int\n",
    "    # between 0 and 255 it's not really needed\n",
    "    X_training = X_training / 255.0\n",
    "    X_test = X_test / 255.0\n",
    "    \n",
    "    # Since logistic regression needs everything between 0 and 1 I tried doing what we did last time\n",
    "    # which converts the array to an boolean. From there I tried using the .astype method to convert it to\n",
    "    # an int array but it didn't work. Not sure why but since I know each piece of data in here is 6 or 8\n",
    "    # I can just mod 3 and if it's 0 then it's 0(6) and if it's 2(8) then \n",
    "    \n",
    "    y_training = np.where(y_training % 3 == 0, 0.0, 1.0)\n",
    "    y_test = np.where(y_test % 3 == 0, 0.0, 1.0)\n",
    "    \n",
    "    weight, costs = log_regression(y_training, X_training, 1000, 5e-5)\n",
    "    all_costs.append(costs)\n",
    "    p = predict(X_test, weight)\n",
    "    # Convert the predictions to 1 or 0\n",
    "    p = np.where(p > .5, 1.0, 0.0)\n",
    "   \n",
    "    # Calculate the true positive rate and false positive rate\n",
    "    # I stole the logical_and part from Linda in class, it's genius!\n",
    "    tpr = np.sum(np.logical_and(p, y_test)) / float(np.sum(y_test == 1))\n",
    "    fpr = np.sum(np.logical_and(p == 0, y_test == 1)) / float(np.sum(y_test == 0))\n",
    "    \n",
    "    tprs.append(tpr)\n",
    "    fprs.append(fpr)"
   ]
  },
  {
   "cell_type": "code",
   "execution_count": 40,
   "metadata": {},
   "outputs": [
    {
     "data": {
      "image/png": "[encoded data removed]",
      "text/plain": [
       "<matplotlib.figure.Figure at 0x10ade2ad0>"
      ]
     },
     "metadata": {},
     "output_type": "display_data"
    }
   ],
   "source": [
    "plt.plot(fprs, tprs)\n",
    "plt.show()"
   ]
  },
  {
   "cell_type": "code",
   "execution_count": null,
   "metadata": {
    "collapsed": true
   },
   "outputs": [],
   "source": []
  }
 ],
 "metadata": {
  "kernelspec": {
   "display_name": "Python 2",
   "language": "python",
   "name": "python2"
  },
  "language_info": {
   "codemirror_mode": {
    "name": "ipython",
    "version": 2
   },
   "file_extension": ".py",
   "mimetype": "text/x-python",
   "name": "python",
   "nbconvert_exporter": "python",
   "pygments_lexer": "ipython2",
   "version": "2.7.14"
  }
 },
 "nbformat": 4,
 "nbformat_minor": 2
}
