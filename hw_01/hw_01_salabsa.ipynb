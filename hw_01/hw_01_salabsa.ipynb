{
 "cells": [
  {
   "cell_type": "code",
   "execution_count": 66,
   "metadata": {
    "collapsed": true
   },
   "outputs": [],
   "source": [
    "import numpy as np\n",
    "import pandas as pd\n",
    "from collections import defaultdict"
   ]
  },
  {
   "cell_type": "code",
   "execution_count": 67,
   "metadata": {
    "collapsed": true
   },
   "outputs": [],
   "source": [
    "def find_majority(labels):\n",
    "    c = defaultdict(int)\n",
    "    for l in labels:\n",
    "        c[l] += 1\n",
    "        \n",
    "    majority = max(c.values())\n",
    "    for k, v in c.items():\n",
    "        if v == majority:\n",
    "            return k\n",
    "\n",
    "def knn(test_data, training_data, k):\n",
    "    prediction = []\n",
    "    for idx, img in test_data.iterrows():\n",
    "        distance = []\n",
    "        d = 0.0\n",
    "        for i, t in training_data.iterrows():\n",
    "            d = np.math.sqrt(sum((img.values.astype(float)[1:] - t.values.astype(float)[1:])**2))\n",
    "            distance.append((t[0], d))\n",
    "        label, distance = zip(*(sorted(distance, key=lambda tup: tup[1])[:k]))\n",
    "        guess = find_majority(label)\n",
    "        prediction.append(img[0] == guess)\n",
    "    \n",
    "    return prediction.count(True) / float(len(prediction)) * 100"
   ]
  },
  {
   "cell_type": "code",
   "execution_count": 68,
   "metadata": {
    "collapsed": true
   },
   "outputs": [],
   "source": [
    "training_data = pd.read_csv('MNIST_training.csv', skiprows=[0],header=None)\n",
    "test_data = pd.read_csv('MNIST_test.csv', skiprows=[0],header=None)"
   ]
  },
  {
   "cell_type": "code",
   "execution_count": 69,
   "metadata": {},
   "outputs": [
    {
     "name": "stdout",
     "output_type": "stream",
     "text": [
      "Accuracy for k 1 is 84.000000\n",
      "Accuracy for k 3 is 86.000000\n",
      "Accuracy for k 5 is 86.000000\n",
      "Accuracy for k 7 is 90.000000\n",
      "Accuracy for k 9 is 90.000000\n",
      "Accuracy for k 11 is 84.000000\n",
      "Accuracy for k 13 is 82.000000\n",
      "Accuracy for k 15 is 82.000000\n",
      "Accuracy for k 17 is 82.000000\n",
      "Accuracy for k 19 is 82.000000\n",
      "Accuracy for k 21 is 82.000000\n",
      "Accuracy for k 23 is 82.000000\n",
      "Accuracy for k 25 is 80.000000\n",
      "Accuracy for k 27 is 80.000000\n",
      "Accuracy for k 29 is 78.000000\n",
      "Accuracy for k 31 is 76.000000\n",
      "Accuracy for k 33 is 74.000000\n",
      "Accuracy for k 35 is 72.000000\n",
      "Accuracy for k 37 is 72.000000\n",
      "Accuracy for k 39 is 72.000000\n"
     ]
    }
   ],
   "source": [
    "for k in range(1,41,2):\n",
    "    p = knn(test_data, training_data, k)\n",
    "    print \"Accuracy for k %i is %f\" % (k, p)"
   ]
  },
  {
   "cell_type": "code",
   "execution_count": null,
   "metadata": {},
   "outputs": [],
   "source": []
  },
  {
   "cell_type": "code",
   "execution_count": null,
   "metadata": {},
   "outputs": [],
   "source": []
  },
  {
   "cell_type": "code",
   "execution_count": null,
   "metadata": {
    "collapsed": true
   },
   "outputs": [],
   "source": []
  },
  {
   "cell_type": "code",
   "execution_count": null,
   "metadata": {
    "collapsed": true
   },
   "outputs": [],
   "source": []
  }
 ],
 "metadata": {
  "kernelspec": {
   "display_name": "Python 2",
   "language": "python",
   "name": "python2"
  },
  "language_info": {
   "codemirror_mode": {
    "name": "ipython",
    "version": 2
   },
   "file_extension": ".py",
   "mimetype": "text/x-python",
   "name": "python",
   "nbconvert_exporter": "python",
   "pygments_lexer": "ipython2",
   "version": "2.7.14"
  }
 },
 "nbformat": 4,
 "nbformat_minor": 2
}
