{
 "cells": [
  {
   "cell_type": "code",
   "execution_count": 38,
   "metadata": {
    "collapsed": true
   },
   "outputs": [],
   "source": [
    "import numpy as np\n",
    "import pandas as pd\n",
    "import matplotlib.pyplot as plt\n",
    "from collections import defaultdict"
   ]
  },
  {
   "cell_type": "code",
   "execution_count": 39,
   "metadata": {
    "collapsed": true
   },
   "outputs": [],
   "source": [
    "def find_majority(labels):\n",
    "    c = defaultdict(int)\n",
    "    for l in labels:\n",
    "        c[l] += 1\n",
    "        \n",
    "    majority = max(c.values())\n",
    "    for k, v in c.items():\n",
    "        if v == majority:\n",
    "            return k\n",
    "        \n",
    "def distance(img1, img2):\n",
    "    return np.linalg.norm(img1 - img2)\n",
    "\n",
    "def e_distance(img1, img2):\n",
    "    return sum((img1 - img2)**2)"
   ]
  },
  {
   "cell_type": "code",
   "execution_count": 48,
   "metadata": {},
   "outputs": [],
   "source": [
    "training_data = pd.read_csv('MNIST_training.csv', skiprows=[0],header=None)\n",
    "test_data = pd.read_csv('MNIST_test.csv', skiprows=[0],header=None)\n",
    "k = 5\n",
    "correct = 0\n",
    "wrong = 0"
   ]
  },
  {
   "cell_type": "code",
   "execution_count": 50,
   "metadata": {},
   "outputs": [
    {
     "name": "stdout",
     "output_type": "stream",
     "text": [
      "Correct\n",
      "Correct\n",
      "Correct\n",
      "Correct\n",
      "Correct\n",
      "Wrong\n",
      "Wrong\n",
      "Wrong\n",
      "Wrong\n",
      "Wrong\n",
      "Wrong\n",
      "Wrong\n",
      "Wrong\n",
      "Wrong\n",
      "Wrong\n",
      "Wrong\n",
      "Wrong\n",
      "Wrong\n",
      "Wrong\n",
      "Wrong\n",
      "Wrong\n",
      "Wrong\n",
      "Wrong\n",
      "Wrong\n",
      "Wrong\n",
      "Wrong\n",
      "Wrong\n",
      "Wrong\n",
      "Wrong\n",
      "Wrong\n",
      "Wrong\n",
      "Wrong\n",
      "Wrong\n",
      "Wrong\n",
      "Wrong\n",
      "Wrong\n",
      "Wrong\n",
      "Wrong\n",
      "Wrong\n",
      "Wrong\n",
      "Wrong\n",
      "Wrong\n",
      "Wrong\n",
      "Wrong\n",
      "Wrong\n",
      "Wrong\n",
      "Wrong\n",
      "Wrong\n",
      "Wrong\n",
      "Wrong\n",
      "correct: 5\n",
      "wrong: 45\n"
     ]
    }
   ],
   "source": [
    "for idx, img in test_data.iterrows():\n",
    "    distance = []\n",
    "    d = 0.0\n",
    "    for i, t in training_data.iterrows():\n",
    "        d += np.linalg.norm(img.values.astype(float)[1:] - t.values.astype(float)[1:])\n",
    "        distance.append((t[0], d))\n",
    "    label, distance = zip(*(sorted(distance, key=lambda tup: tup[1])[:k]))\n",
    "    guess = find_majority(label)\n",
    "    if img[0] == guess:\n",
    "        print \"Correct\"\n",
    "        correct += 1\n",
    "    else:\n",
    "        print \"Wrong\"\n",
    "        wrong += 1\n",
    "        \n",
    "print \"correct: %i\" % correct\n",
    "print \"wrong: %i\" % wrong"
   ]
  },
  {
   "cell_type": "code",
   "execution_count": 49,
   "metadata": {},
   "outputs": [
    {
     "name": "stdout",
     "output_type": "stream",
     "text": [
      "correct: 0\n",
      "Wrong: 0\n"
     ]
    },
    {
     "ename": "ZeroDivisionError",
     "evalue": "integer division or modulo by zero",
     "output_type": "error",
     "traceback": [
      "\u001b[0;31m---------------------------------------------------------------------------\u001b[0m",
      "\u001b[0;31mZeroDivisionError\u001b[0m                         Traceback (most recent call last)",
      "\u001b[0;32m<ipython-input-49-1e3065d2e97e>\u001b[0m in \u001b[0;36m<module>\u001b[0;34m()\u001b[0m\n\u001b[1;32m      1\u001b[0m \u001b[0;32mprint\u001b[0m \u001b[0;34m\"correct: %i\"\u001b[0m \u001b[0;34m%\u001b[0m \u001b[0mcorrect\u001b[0m\u001b[0;34m\u001b[0m\u001b[0m\n\u001b[1;32m      2\u001b[0m \u001b[0;32mprint\u001b[0m \u001b[0;34m\"Wrong: %i\"\u001b[0m \u001b[0;34m%\u001b[0m \u001b[0mwrong\u001b[0m\u001b[0;34m\u001b[0m\u001b[0m\n\u001b[0;32m----> 3\u001b[0;31m \u001b[0maccuracy\u001b[0m \u001b[0;34m=\u001b[0m \u001b[0mcorrect\u001b[0m \u001b[0;34m/\u001b[0m \u001b[0;34m(\u001b[0m\u001b[0mcorrect\u001b[0m \u001b[0;34m+\u001b[0m \u001b[0mwrong\u001b[0m\u001b[0;34m)\u001b[0m\u001b[0;34m\u001b[0m\u001b[0m\n\u001b[0m",
      "\u001b[0;31mZeroDivisionError\u001b[0m: integer division or modulo by zero"
     ]
    }
   ],
   "source": [
    "print \"correct: %i\" % correct\n",
    "print \"Wrong: %i\" % wrong\n",
    "accuracy = correct / (correct + wrong)"
   ]
  },
  {
   "cell_type": "code",
   "execution_count": 44,
   "metadata": {},
   "outputs": [
    {
     "data": {
      "text/plain": [
       "0"
      ]
     },
     "execution_count": 44,
     "metadata": {},
     "output_type": "execute_result"
    }
   ],
   "source": [
    "accuracy"
   ]
  },
  {
   "cell_type": "code",
   "execution_count": null,
   "metadata": {
    "collapsed": true
   },
   "outputs": [],
   "source": []
  }
 ],
 "metadata": {
  "kernelspec": {
   "display_name": "Python 2",
   "language": "python",
   "name": "python2"
  },
  "language_info": {
   "codemirror_mode": {
    "name": "ipython",
    "version": 2
   },
   "file_extension": ".py",
   "mimetype": "text/x-python",
   "name": "python",
   "nbconvert_exporter": "python",
   "pygments_lexer": "ipython2",
   "version": "2.7.14"
  }
 },
 "nbformat": 4,
 "nbformat_minor": 2
}
